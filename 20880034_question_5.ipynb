{
 "cells": [
  {
   "cell_type": "code",
   "execution_count": 5,
   "metadata": {
    "tags": []
   },
   "outputs": [],
   "source": [
    "from IPython.display import SVG, Math\n",
    "from fractions import Fraction as F\n",
    "import matplotlib.pyplot as plt\n",
    "import random"
   ]
  },
  {
   "cell_type": "markdown",
   "metadata": {},
   "source": [
    "# Bài tập 2\n",
    "\n",
    "**THỐNG KÊ MÁY TÍNH VÀ ỨNG DỤNG (ĐTTX)**\n",
    "\n",
    "*Họ tên sinh viên: Bùi Phúc Kiển* <br>\n",
    "*MSSV: 20880034*"
   ]
  },
  {
   "cell_type": "markdown",
   "metadata": {},
   "source": [
    "## Câu 5.\n",
    "Bỏ ngẫu nhiên 2 lá bài trong bộ bài 52 lá. Bốc ngẫu nhiên 10 lá trong 50 lá còn lại.\n",
    "Tính xác suất bốc được tứ quí heo."
   ]
  },
  {
   "cell_type": "markdown",
   "metadata": {
    "tags": []
   },
   "source": [
    "### Bài làm"
   ]
  },
  {
   "cell_type": "markdown",
   "metadata": {
    "tags": []
   },
   "source": [
    "Gọi <br>\n",
    "A: \"Không có lá heo trong hai lá bài bỏ ra\". <br>\n",
    "B: \"Bốc được tứ quí heo trong 10 lá tiếp theo\" <br>\n",
    "Ta có: <br>\n",
    "$$P\\left( A \\right) = \\frac{{C_{48}^2}}{{C_{52}^2}},P\\left( {B/A} \\right) = \\frac{{C_4^4C_{46}^6}}{{C_{50}^{10}}},P\\left( {B/{A^C}} \\right) = 0$$\n",
    "**Xác suất cần tìm:**\n",
    "$$P\\left( B \\right) = P\\left( A \\right)P\\left( {B/A} \\right) + P\\left( {{A^c}} \\right)P\\left( {B/{A^c}} \\right) = \\frac{{C_{48}^2}}{{C_{52}^2}}.\\frac{{C_4^4C_{46}^6}}{{C_{50}^{10}}} = \\frac{6}{{7735}}$$"
   ]
  },
  {
   "cell_type": "markdown",
   "metadata": {},
   "source": [
    "### Kiểm tra kết quả bằng phương pháp mô phỏng"
   ]
  },
  {
   "cell_type": "code",
   "execution_count": 6,
   "metadata": {},
   "outputs": [
    {
     "data": {
      "text/plain": [
       "0.000843"
      ]
     },
     "execution_count": 6,
     "metadata": {},
     "output_type": "execute_result"
    }
   ],
   "source": [
    "#Tạo bài\n",
    "suits = ['H', 'D', 'S', 'C']   #H-heart, D-diamond, S-spade, C-club\n",
    "JQK = ['J', 'Q', 'K'] #J-Jack, Q-Queen, K-King\n",
    "temp = [i for i in range(1, 11)] + JQK #Dùng một danh sách tạm để tạo bài\n",
    "deck_of_cards = [(i, j) for i in temp for j in suits]\n",
    "\n",
    "\"\"\"\n",
    "Thực hiện n lần. Mỗi lần bỏ ra hai lá, sau đó chọn 10 lá.\n",
    "Đếm số lần được tứ quí heo.\n",
    "\"\"\"\n",
    "def prob(n, deck):\n",
    "    num_of_four_of_a_kind = 0   #Đếm số lần được tứ quí heo\n",
    "    for i in range(n):\n",
    "        #Copy một bộ bài, vì khi remove sẽ làm thay đổi danh sách.\n",
    "        copied_cards = deck.copy()\n",
    "        \n",
    "        #Chọn ngẫu nhiên 2 cây bài và bỏ ra khỏi bộ bài\n",
    "        removed_cards = random.sample(copied_cards, k=2)\n",
    "        for card in removed_cards:\n",
    "            copied_cards.remove(card)\n",
    "        \n",
    "        #Chọn ngẫu nhiên 10 lá bài\n",
    "        choices = random.sample(copied_cards, 10)\n",
    "        \n",
    "        #Đếm số lá 2 có trong 10 lá được chọn\n",
    "        num_of_two = 0\n",
    "        for card in choices:\n",
    "            if card[0] == 2:\n",
    "                num_of_two += 1\n",
    "        \n",
    "        #Nếu có 4 lá hai, ta được một tứ quí heo\n",
    "        if num_of_two == 4:\n",
    "            num_of_four_of_a_kind += 1\n",
    "    \n",
    "    #Trả về số lần được tứ quí heo trên n lần thử\n",
    "    return num_of_four_of_a_kind/n\n",
    "        \n",
    "prob(1_000_000, deck_of_cards)"
   ]
  }
 ],
 "metadata": {
  "hide_input": false,
  "kernelspec": {
   "display_name": "Python 3",
   "language": "python",
   "name": "python3"
  },
  "language_info": {
   "codemirror_mode": {
    "name": "ipython",
    "version": 3
   },
   "file_extension": ".py",
   "mimetype": "text/x-python",
   "name": "python",
   "nbconvert_exporter": "python",
   "pygments_lexer": "ipython3",
   "version": "3.8.8"
  }
 },
 "nbformat": 4,
 "nbformat_minor": 4
}
