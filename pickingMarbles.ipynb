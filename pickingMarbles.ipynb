{
 "cells": [
  {
   "cell_type": "markdown",
   "metadata": {},
   "source": [
    "# Model And Solve Picking Marbels Problem"
   ]
  },
  {
   "cell_type": "markdown",
   "metadata": {},
   "source": [
    "A bag contains 7 red marbels and 8 black marbels. Pick 3 marbels from the bag. What is the probability of getting 3 reds in case:\n",
    "    <ul >\n",
    "        <li>Replacement.</li>\n",
    "        <li>Without replacement.</li>\n",
    "    </ul>"
   ]
  },
  {
   "cell_type": "markdown",
   "metadata": {
    "tags": []
   },
   "source": [
    "# Theoretically solving the problem"
   ]
  },
  {
   "cell_type": "markdown",
   "metadata": {
    "tags": []
   },
   "source": [
    "Let <br>\n",
    "${A_i}$: \"Pick a red marbel at the $i$th time\" , $i = 1, 2, 3$<br>\n",
    "B: \"Get three red marbels\" <br>\n",
    "Hence $B = {A_1}{A_2}{A_3}$ <br>\n",
    "**1. Replacement** <br>\n",
    "${A_i}, {i = 1, 2, 3}$ are independent:\n",
    "$$\\left( B \\right) = P\\left( {{A_1}{A_2}{A_3}} \\right) = P\\left( {{A_1}} \\right)P\\left( {{A_2}} \\right)P\\left( {{A_3}} \\right) = {\\left( {\\frac{7}{{15}}} \\right)^3}$$\n",
    "**2. Without replacement** <br>\n",
    "We have:<br>\n",
    "$$P\\left( B \\right) = P\\left( {{A_1}{A_2}{A_3}} \\right) = P\\left( {{A_1}} \\right)P\\left( {{A_2}/{A_1}} \\right)P\\left( {{A_3}/{A_1}{A_2}} \\right) = \\frac{7}{{15}}.\\frac{6}{{14}}.\\frac{5}{{13}} = \\frac{1}{{13}}$$"
   ]
  },
  {
   "cell_type": "markdown",
   "metadata": {},
   "source": [
    "# Using model to solve the problem"
   ]
  },
  {
   "cell_type": "code",
   "execution_count": 7,
   "metadata": {
    "tags": []
   },
   "outputs": [],
   "source": [
    "# Import random library\n",
    "import random"
   ]
  },
  {
   "cell_type": "code",
   "execution_count": 8,
   "metadata": {},
   "outputs": [
    {
     "name": "stdout",
     "output_type": "stream",
     "text": [
      "Probability of replacement picking three reds :  0.101669\n",
      "Probability of without replacement picking three reds :   0.077015\n"
     ]
    }
   ],
   "source": [
    "omega = [('R', i) for i in range(1, 8)] + [('B', i) for i in range(1, 9)]\n",
    "\n",
    "# Pick with replacement k times\n",
    "def replacement(sample_space, k):\n",
    "    return random.choices(sample_space, k=k)\n",
    "\n",
    "# Pick without replacement k times\n",
    "def without_replacement(sample_space, k):\n",
    "    return random.sample(sample_space, k=k)\n",
    "\n",
    "\n",
    "# Calculate the probability of k marbels that have the specific color\n",
    "def prob(numTrials, Color, k, func):\n",
    "    \"\"\"\n",
    "    numTrials: The number of trials\n",
    "    Color: color of the marbles  R-red, B-black\n",
    "    k: number of marbles picked in a trial\n",
    "    func: function indicate how to pick - replacement or not\n",
    "    \"\"\"\n",
    "    num_success = 0                             # Number of successes\n",
    "    for i in range(numTrials): \n",
    "        sample_space = omega.copy()\n",
    "        nC = 0                                 \n",
    "        choices = func(sample_space, k)\n",
    "        for marble in choices:\n",
    "            if(marble[0] == Color):\n",
    "                nC += 1                        \n",
    "        if(nC == k):\n",
    "            num_success += 1                   \n",
    "    return num_success/numTrials\n",
    "\n",
    "\n",
    "print(\"Probability of replacement picking three reds : \", prob(1_000_000, 'R', 3, replacement))\n",
    "\n",
    "print(\"Probability of without replacement picking three reds :  \", prob(1_000_000, 'R', 3, without_replacement))"
   ]
  }
 ],
 "metadata": {
  "hide_input": false,
  "kernelspec": {
   "display_name": "Python 3 (ipykernel)",
   "language": "python",
   "name": "python3"
  },
  "language_info": {
   "codemirror_mode": {
    "name": "ipython",
    "version": 3
   },
   "file_extension": ".py",
   "mimetype": "text/x-python",
   "name": "python",
   "nbconvert_exporter": "python",
   "pygments_lexer": "ipython3",
   "version": "3.9.12"
  }
 },
 "nbformat": 4,
 "nbformat_minor": 4
}
