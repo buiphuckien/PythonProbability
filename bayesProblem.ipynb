{
 "cells": [
  {
   "cell_type": "code",
   "execution_count": 1,
   "metadata": {
    "tags": []
   },
   "outputs": [],
   "source": [
    "from IPython.display import SVG, Math\n",
    "from fractions import Fraction as F\n",
    "import matplotlib.pyplot as plt\n"
   ]
  },
  {
   "cell_type": "markdown",
   "metadata": {},
   "source": [
    "# Model Solving A Probabitiy Prolem Using Bayes Theory"
   ]
  },
  {
   "cell_type": "markdown",
   "metadata": {},
   "source": [
    "A servey on health of a group of people for 5 years. 20% of them are heavily smoking, 30% are light smoking, 50% are nonsmoking. The servey shows that light smoking people have mortality risk is twice as nonsmoking people and half of heavily smoking peole. If a person who joined the servey died in 5 years, what is the probability that person is heavily smoking?"
   ]
  },
  {
   "cell_type": "markdown",
   "metadata": {
    "tags": []
   },
   "source": [
    "# Theoretically Solving The Problem"
   ]
  },
  {
   "cell_type": "markdown",
   "metadata": {
    "tags": []
   },
   "source": [
    "Let H (heavy), L (light), N (non) be the chosen person that heavily smoking, light smoking, and nonsmoking respectively. <br>\n",
    "Ta có:\n",
    "$$P\\left( H \\right) = 0.2,{\\rm{ }}P\\left( L \\right) = 0.3,{\\rm{ }}P\\left( N \\right) = 0.5$$\n",
    "Let D: \"The chosen person died in 5 years\" <br>\n",
    "Let x be the mortality rate for heavily smoking people. <br>\n",
    "Hence the mortality rate for light smoking people and nonsmoking people is $(1/2)x$ and $(1/4)x$ respectively. <br>\n",
    "Thus:\n",
    "$$P\\left( {D/H} \\right) = x,{\\rm{ }}P\\left( {D/L} \\right) = \\frac{1}{2}x,{\\rm{ }}P\\left( {D/N} \\right) = \\frac{1}{4}x$$\n",
    "We have $\\left\\{ {H,L,N} \\right\\}$ is a mutually exclusive and exhaustive system events.\n",
    "$$P\\left( D \\right) = P\\left( H \\right)P\\left( {D/H} \\right) + P\\left( L \\right)P\\left( {D/L} \\right) + P\\left( N \\right)P\\left( {D/N} \\right) = \\frac{{19}}{{40}}x$$\n",
    "**The probability:**\n",
    "$$P\\left( {H/D} \\right) = \\frac{{P\\left( H \\right)P\\left( {D/H} \\right)}}{{P\\left( D \\right)}} = \\frac{{\\left( {0.2} \\right)\\left( x \\right)}}{{\\left( {19/40} \\right)x}} = \\frac{8}{{19}}$$"
   ]
  },
  {
   "cell_type": "markdown",
   "metadata": {},
   "source": [
    "# Modeling Solving The Problem"
   ]
  },
  {
   "cell_type": "code",
   "execution_count": 2,
   "metadata": {},
   "outputs": [
    {
     "name": "stdout",
     "output_type": "stream",
     "text": [
      "0.42069154053613583\n"
     ]
    }
   ],
   "source": [
    "# Im\n",
    "import random\n",
    "\n",
    "# Model the person join the servey\n",
    "class Person:\n",
    "    # Save all of created instances\n",
    "    instances = []\n",
    "    heavy_smokers = []\n",
    "    light_smokers = []\n",
    "    non_smokers = []\n",
    "    \n",
    "    \"\"\"\n",
    "        - smoking_status: 0 - nonsmoking, 1 - light smoking, 2 - heavily smoking\n",
    "    \"\"\"\n",
    "    def __init__(self, smoking_status = 0, dead = 0):\n",
    "        \n",
    "        self.smoking_status = smoking_status\n",
    "        self.dead = dead\n",
    "        \n",
    "        # Save heavy_smokers\n",
    "        if(self.smoking_status == 2):\n",
    "            Person.heavy_smokers.append(self)\n",
    "            \n",
    "        # Save light_smokers\n",
    "        if(self.smoking_status == 1):\n",
    "            Person.light_smokers.append(self)\n",
    "            \n",
    "        # Save non_smokers\n",
    "        if(self.smoking_status == 0):\n",
    "            Person.non_smokers.append(self)\n",
    "            \n",
    "        Person.instances.append(self)\n",
    "        \n",
    "\"\"\"\n",
    "Create sample. Here n is a multiple of 1_000.\n",
    "    - 20% heavily smoking (smoking_status = 2)\n",
    "    - 30% light smoking (smoking_status = 1)\n",
    "    - 50% nonsmoking (smoking_status = 0)\n",
    "\"\"\"\n",
    "def sample_size(n):\n",
    "    assert (n!=0 and n%1_000 == 0), 'Invalid sample size'\n",
    "    \n",
    "    # Create 20% heavily smoking people\n",
    "    for _ in range(int(0.2*n)):\n",
    "        Person(smoking_status = 2, dead = 0)\n",
    "        \n",
    "    # Create 30% light smoking people\n",
    "    for _ in range(int(0.3*n)):\n",
    "        Person(smoking_status = 1, dead = 0)\n",
    "        \n",
    "    # Create 50% nonsmoking people\n",
    "    for _ in range(int(0.5*n)):\n",
    "        Person(smoking_status = 0, dead = 0)\n",
    "\n",
    "\"\"\"\n",
    "Set dead status for each person.\n",
    " - Mortality rate of heavily smoking people is x - randomly generated from 0 to 1.\n",
    " - Mortality rate of light smoking people is (1/2)x.\n",
    " - Mortality rate of nonsmoking people is (1/4)x.\n",
    " - Count number of dead people in each group.\n",
    " - Randomly set dead status for each people.\n",
    "\"\"\"\n",
    "def set_died(n):\n",
    "    sample_size(n)\n",
    "    # Randomly generated a number in (0,1), round to two decimal place\n",
    "    x = round(random.random(), 2)\n",
    "    \n",
    "    num_of_dead_heavy_smokers = int(x*0.2*n)\n",
    "    dead_heavy_smokers = random.sample(Person.heavy_smokers, num_of_dead_heavy_smokers)\n",
    "    for person in dead_heavy_smokers:\n",
    "        person.dead = 1\n",
    "        \n",
    "    num_of_dead_light_smokers = int((1/2)*x*0.3*n)\n",
    "    dead_light_smokers = random.sample(Person.light_smokers, num_of_dead_light_smokers)\n",
    "    for person in dead_light_smokers:\n",
    "        person.dead = 1\n",
    "        \n",
    "    num_of_dead_non_smokers = int((1/4)*x*0.5*n)\n",
    "    dead_non_smokers = random.sample(Person.non_smokers, num_of_dead_non_smokers)\n",
    "    for person in dead_non_smokers:\n",
    "        person.dead = 1\n",
    "        \n",
    "\n",
    "# Calculate the probability\n",
    "def prob(n, m):\n",
    "    countDead = 0\n",
    "    countHeavy = 0\n",
    "    set_died(n)\n",
    "    for i in range(m):\n",
    "        choosed_person = random.choice(Person.instances)\n",
    "        if choosed_person.dead == 1:\n",
    "            countDead += 1\n",
    "            if choosed_person.smoking_status == 2:\n",
    "                countHeavy += 1\n",
    "    return countHeavy/countDead\n",
    "    \n",
    "try:\n",
    "    print(prob(10_000, 1_000_000))\n",
    "except AssertionError as msg:\n",
    "    print(msg)"
   ]
  }
 ],
 "metadata": {
  "hide_input": false,
  "kernelspec": {
   "display_name": "Python 3 (ipykernel)",
   "language": "python",
   "name": "python3"
  },
  "language_info": {
   "codemirror_mode": {
    "name": "ipython",
    "version": 3
   },
   "file_extension": ".py",
   "mimetype": "text/x-python",
   "name": "python",
   "nbconvert_exporter": "python",
   "pygments_lexer": "ipython3",
   "version": "3.9.12"
  }
 },
 "nbformat": 4,
 "nbformat_minor": 4
}
