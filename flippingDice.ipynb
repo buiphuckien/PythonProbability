{
 "cells": [
  {
   "cell_type": "markdown",
   "metadata": {},
   "source": [
    "# Model And Solve Flipping Dice Problem"
   ]
  },
  {
   "cell_type": "markdown",
   "metadata": {},
   "source": [
    "Flipping two ballanced dice.\n",
    "<ol type=\"a\">\n",
    "        <li>What is the sample space?</li>\n",
    "        <li>Let E be the event \"sum of the outputs at most 10\". List the plausible result for \\({E^c}\\)</li>\n",
    "        <li>What is the probability of E.</li>\n",
    "        <li>Let F be the event \"two dice have the same particular number\". Calculate \\(P\\left( {{F^c}} \\right)\\)</li>\n",
    "        <li>Calculate \\(P\\left( {E \\cap F} \\right),P\\left( {E \\cup F} \\right),P\\left( {E\\backslash F} \\right),P\\left( {F\\backslash E} \\right),P\\left( {E|F} \\right),P\\left( {F|E} \\right)\\)</li>\n",
    "    </ol>"
   ]
  },
  {
   "cell_type": "markdown",
   "metadata": {},
   "source": [
    "# Theoretically Soving The Problem"
   ]
  },
  {
   "cell_type": "markdown",
   "metadata": {},
   "source": [
    "#### 1. Sample spcae  $\\Omega  = {\\rm{\\{ }}\\left( {i,j} \\right){\\rm{|i,j = }}\\overline {1,6} {\\rm{\\} }}, \\left| \\Omega  \\right| = 36$"
   ]
  },
  {
   "cell_type": "code",
   "execution_count": 55,
   "metadata": {},
   "outputs": [],
   "source": [
    "Omega = [(i, j) for i in range(1,7) for j in range(1, 7)]"
   ]
  },
  {
   "cell_type": "markdown",
   "metadata": {},
   "source": [
    "#### 2. E: \"sum of the outputs at most 10\""
   ]
  },
  {
   "cell_type": "code",
   "execution_count": 56,
   "metadata": {},
   "outputs": [
    {
     "data": {
      "text/plain": [
       "[(5, 6), (6, 5), (6, 6)]"
      ]
     },
     "execution_count": 56,
     "metadata": {},
     "output_type": "execute_result"
    }
   ],
   "source": [
    "E = [(i, j) for (i, j) in Omega if i + j <= 10]\n",
    "EC = [element for element in Omega if (element not in E)]\n",
    "EC"
   ]
  },
  {
   "cell_type": "markdown",
   "metadata": {},
   "source": [
    "#### 3. The probability of E"
   ]
  },
  {
   "cell_type": "markdown",
   "metadata": {},
   "source": [
    "$\\begin{array}{l}\n",
    "P\\left( {{E^c}} \\right) = \\frac{3}{{36}}\\\\\n",
    "P\\left( E \\right) = 1 - P\\left( {{E^c}} \\right) = 1 - \\frac{3}{{36}} = \\frac{{11}}{{12}}\n",
    "\\end{array}$"
   ]
  },
  {
   "cell_type": "code",
   "execution_count": 57,
   "metadata": {},
   "outputs": [
    {
     "data": {
      "text/plain": [
       "0.9166666666666666"
      ]
     },
     "execution_count": 57,
     "metadata": {},
     "output_type": "execute_result"
    }
   ],
   "source": [
    "P_E = len(E)/len(Omega)\n",
    "P_E"
   ]
  },
  {
   "cell_type": "markdown",
   "metadata": {},
   "source": [
    "#### 4. F: \"two dice have the same particular number\". Calculate $P\\left( {{F^c}} \\right)$"
   ]
  },
  {
   "cell_type": "markdown",
   "metadata": {},
   "source": [
    "$F = {\\rm{\\{ }}\\left( {1,1} \\right){\\rm{,}}\\left( {2,2} \\right),\\left( {3,3} \\right),\\left( {4,4} \\right),\\left( {5,5} \\right),\\left( {6,6} \\right){\\rm{\\} }}$ <br>\n",
    "$P\\left( {{F^c}} \\right) = 1 - P\\left( F \\right) = 1 - \\frac{6}{{36}} = \\frac{5}{6}$"
   ]
  },
  {
   "cell_type": "code",
   "execution_count": 58,
   "metadata": {},
   "outputs": [
    {
     "data": {
      "text/plain": [
       "0.8333333333333334"
      ]
     },
     "execution_count": 58,
     "metadata": {},
     "output_type": "execute_result"
    }
   ],
   "source": [
    "F = [(i, j) for (i, j) in Omega if i == j]\n",
    "FC = [element for element in Omega if (element not in F)]\n",
    "P_FC = len(FC)/len(Omega)\n",
    "P_FC"
   ]
  },
  {
   "cell_type": "markdown",
   "metadata": {
    "tags": []
   },
   "source": [
    "#### 5. Calculate $P\\left( {E \\cap F} \\right),P\\left( {E \\cup F} \\right),P\\left( {E\\backslash F} \\right),P\\left( {F\\backslash E} \\right),P\\left( {E|F} \\right),P\\left( {F|E} \\right)$"
   ]
  },
  {
   "cell_type": "markdown",
   "metadata": {},
   "source": [
    "$E \\cap F = {\\rm{\\{ }}\\left( {1,1} \\right){\\rm{,}}\\left( {2,2} \\right),\\left( {3,3} \\right),\\left( {4,4} \\right),\\left( {5,5} \\right){\\rm{\\} }}$ <br>\n",
    "${\\rm{P}}\\left( {E \\cap F} \\right) = \\frac{5}{{36}}$"
   ]
  },
  {
   "cell_type": "code",
   "execution_count": 59,
   "metadata": {},
   "outputs": [
    {
     "data": {
      "text/plain": [
       "0.1388888888888889"
      ]
     },
     "execution_count": 59,
     "metadata": {},
     "output_type": "execute_result"
    }
   ],
   "source": [
    "E_and_F = [e for e in E if(e in F)]\n",
    "P_E_and_F = len(E_and_F)/len(Omega)\n",
    "P_E_and_F"
   ]
  },
  {
   "cell_type": "markdown",
   "metadata": {},
   "source": [
    "$E \\cup F = \\Omega \\backslash \\{ \\left( {5,6} \\right),\\left( {6,5} \\right)\\}$ <br>\n",
    "${\\rm{P}}\\left( {E \\cup F} \\right) = \\frac{{34}}{{36}}$"
   ]
  },
  {
   "cell_type": "code",
   "execution_count": 60,
   "metadata": {},
   "outputs": [
    {
     "data": {
      "text/plain": [
       "0.9444444444444444"
      ]
     },
     "execution_count": 60,
     "metadata": {},
     "output_type": "execute_result"
    }
   ],
   "source": [
    "E_or_F = list(set(E + F))\n",
    "P_E_or_F = len(E_or_F)/len(Omega)\n",
    "P_E_or_F"
   ]
  },
  {
   "cell_type": "markdown",
   "metadata": {},
   "source": [
    "$\\begin{array}{l}\n",
    "E\\backslash F = \\{ \\left( {i,j} \\right)|i + j \\le 10,i \\ne j\\} \\\\\n",
    "{\\rm{P}}\\left( {E\\backslash F} \\right) = \\frac{{28}}{{36}}\n",
    "\\end{array}$"
   ]
  },
  {
   "cell_type": "code",
   "execution_count": 61,
   "metadata": {},
   "outputs": [
    {
     "data": {
      "text/plain": [
       "0.7777777777777778"
      ]
     },
     "execution_count": 61,
     "metadata": {},
     "output_type": "execute_result"
    }
   ],
   "source": [
    "E_minus_F = [e for e in E if(e not in F)]\n",
    "P_E_minus_F = len(E_minus_F)/len(Omega)\n",
    "P_E_minus_F"
   ]
  },
  {
   "cell_type": "markdown",
   "metadata": {},
   "source": [
    "$\\begin{array}{l}\n",
    "F\\backslash E = \\{ \\left( {6,6} \\right)\\} \\\\\n",
    "{\\rm{P}}\\left( {F\\backslash E} \\right) = \\frac{1}{{36}}\n",
    "\\end{array}$"
   ]
  },
  {
   "cell_type": "code",
   "execution_count": 62,
   "metadata": {},
   "outputs": [
    {
     "data": {
      "text/plain": [
       "0.027777777777777776"
      ]
     },
     "execution_count": 62,
     "metadata": {},
     "output_type": "execute_result"
    }
   ],
   "source": [
    "F_minus_E = [e for e in F if(e not in E)]\n",
    "P_F_minus_E = len(F_minus_E)/len(Omega)\n",
    "P_F_minus_E"
   ]
  },
  {
   "cell_type": "markdown",
   "metadata": {
    "tags": []
   },
   "source": [
    "${\\rm{P}}\\left( {E|F} \\right) = \\frac{{P\\left( {EF} \\right)}}{{P\\left( F \\right)}} = \\frac{5}{6}$"
   ]
  },
  {
   "cell_type": "code",
   "execution_count": 63,
   "metadata": {},
   "outputs": [
    {
     "data": {
      "text/plain": [
       "0.8333333333333334"
      ]
     },
     "execution_count": 63,
     "metadata": {},
     "output_type": "execute_result"
    }
   ],
   "source": [
    "P_E_per_F = len(E_and_F)/len(F)\n",
    "P_E_per_F"
   ]
  },
  {
   "cell_type": "markdown",
   "metadata": {
    "tags": []
   },
   "source": [
    "${\\rm{P}}\\left( {F|E} \\right) = \\frac{{P\\left( {FE} \\right)}}{{P\\left( E \\right)}} = \\frac{5}{{33}}$"
   ]
  },
  {
   "cell_type": "code",
   "execution_count": 64,
   "metadata": {},
   "outputs": [
    {
     "data": {
      "text/plain": [
       "0.15151515151515152"
      ]
     },
     "execution_count": 64,
     "metadata": {},
     "output_type": "execute_result"
    }
   ],
   "source": [
    "P_F_per_E = len(E_and_F)/len(E)\n",
    "P_F_per_E"
   ]
  },
  {
   "cell_type": "markdown",
   "metadata": {},
   "source": [
    "# Solving The Problem Using Model"
   ]
  },
  {
   "cell_type": "code",
   "execution_count": 54,
   "metadata": {
    "tags": []
   },
   "outputs": [],
   "source": [
    "# Import the libraries\n",
    "import matplotlib.pyplot as plt\n",
    "import random"
   ]
  },
  {
   "cell_type": "code",
   "execution_count": 67,
   "metadata": {},
   "outputs": [
    {
     "name": "stdout",
     "output_type": "stream",
     "text": [
      "Tính xác suất của các biến cố ở câu 1 bằng mô phỏng.\n",
      "P(E) =  0.917245\n",
      "P(FC) =  0.83347\n",
      "P(E_and_F) =  0.138873\n",
      "P(E_or_F) =  0.944184\n",
      "P(E_minus_F) =  0.777485\n",
      "P(F_minus_E) =  0.027468\n",
      "P(E|F) =  0.8322702589181242\n",
      "P(F|E) =  0.15184978324471857\n"
     ]
    }
   ],
   "source": [
    "\"\"\"\n",
    "Function that calculates the probability of event A. Two parameters:\n",
    " - n - number of trials.\n",
    " - A - The event\n",
    "At each trial, note whether it fails or succeeds. Count the number of success.\n",
    "\"\"\"\n",
    "def probability_of_A(n, A):\n",
    "    count = 0;\n",
    "    for i in range(n):\n",
    "        choice = random.choice(Omega)  # Number of trials\n",
    "        if(choice in A):\n",
    "            count += 1                 # Number of success\n",
    "    return count/n\n",
    "\n",
    "\"\"\"\n",
    "Funtion that calculate conditional probability A/B. Three parameters:\n",
    " - n - number of trials\n",
    " - A, B - the events\n",
    "Each trial, note whether B succeeds or fail.\n",
    "If B succeeds, note whether A succeeds.\n",
    "\"\"\"\n",
    "def cond_probability(n, A, B):\n",
    "    nB = 0      # Number of successes for B\n",
    "    nA = 0      # Number of successes for A when B succeeds\n",
    "    for i in range(n):\n",
    "        choice = random.choice(Omega)  # Number of trials\n",
    "        if(choice in B):\n",
    "            nB += 1\n",
    "            if(choice in A):\n",
    "                nA += 1\n",
    "    return nA/nB\n",
    "\n",
    "n =  1_000_000\n",
    "print(\"Solving the problem by model.\")\n",
    "print(\"P(E) = \",  probability_of_A(n, E))\n",
    "print(\"P(FC) = \",  probability_of_A(n, FC))\n",
    "print(\"P(E_and_F) = \", probability_of_A(n, E_and_F))\n",
    "print(\"P(E_or_F) = \", probability_of_A(n, E_or_F))\n",
    "print(\"P(E_minus_F) = \", probability_of_A(n, E_minus_F))\n",
    "print(\"P(F_minus_E) = \", probability_of_A(n, F_minus_E))\n",
    "print(\"P(E|F) = \", cond_probability(n, E, F))\n",
    "print(\"P(F|E) = \", cond_probability(n, F, E))"
   ]
  }
 ],
 "metadata": {
  "hide_input": false,
  "kernelspec": {
   "display_name": "Python 3 (ipykernel)",
   "language": "python",
   "name": "python3"
  },
  "language_info": {
   "codemirror_mode": {
    "name": "ipython",
    "version": 3
   },
   "file_extension": ".py",
   "mimetype": "text/x-python",
   "name": "python",
   "nbconvert_exporter": "python",
   "pygments_lexer": "ipython3",
   "version": "3.9.12"
  }
 },
 "nbformat": 4,
 "nbformat_minor": 4
}
