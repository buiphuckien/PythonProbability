{
 "cells": [
  {
   "cell_type": "markdown",
   "metadata": {},
   "source": [
    "# Modeling A Normal Distribution Problem"
   ]
  },
  {
   "cell_type": "markdown",
   "metadata": {},
   "source": [
    "The weight of a shoe has a normal distribution with a mean of 400 gram and a standard deviation of 25 gram. Calculate:\n",
    "(a) The probability of a chosen shoe that weights more than 430 gram. <br>\n",
    "(b) The probability of a chosen shoe that weights 380 gram to 430 gram. <br>\n",
    "(c) 95% of the shoes weight more than how many gram? <br>\n",
    "(d) Randomly choosing 5 shoes, What is the probability of getting exactly three of them weight more than 430 gram."
   ]
  },
  {
   "cell_type": "markdown",
   "metadata": {},
   "source": [
    "# Theoretically Solving The Problem"
   ]
  },
  {
   "cell_type": "markdown",
   "metadata": {},
   "source": [
    "Let X(gram) be the weight of the shoe.<br>\n",
    "$X \\sim N\\left( {400,{{25}^2}} \\right)$"
   ]
  },
  {
   "cell_type": "markdown",
   "metadata": {},
   "source": [
    "## a) The probability of a chosen shoe that weights more than 430 gram.<br>\n",
    "$P\\left( {X \\ge 430} \\right) = P\\left( {\\frac{{X - 400}}{{25}} \\ge 1.2} \\right) = 1 - \\Phi \\left( {1.2} \\right) = 1 - 0.88439 = 0.11561$"
   ]
  },
  {
   "cell_type": "markdown",
   "metadata": {
    "tags": []
   },
   "source": [
    "## b) The probability of a chosen shoe that weights 380 gram to 430 gram.\n",
    "$P\\left( {380 \\le X \\le 430} \\right) = \\Phi \\left( {1.2} \\right) - \\Phi \\left( { - 0.8} \\right) = 0.88439 - 0.21186 = 0.67253$"
   ]
  },
  {
   "cell_type": "markdown",
   "metadata": {
    "tags": []
   },
   "source": [
    "## c) 95% of the shoes weight more than how many gram?\n",
    "Suppose 95% of the shoes weight more than $m$ gram. Hence: <br>\n",
    "$\\begin{array}{l}\n",
    "P\\left( {X \\ge m} \\right) = 0.95\\\\\n",
    " \\Rightarrow P\\left( {X \\le m} \\right) = 0.05\\\\\n",
    " \\Rightarrow \\Phi \\left( {\\frac{{m - 400}}{{25}}} \\right) = 0.05 = \\Phi \\left( { - 1.65} \\right)\\\\\n",
    " \\Rightarrow \\frac{{m - 400}}{{25}} =  - 1.65\\\\\n",
    " \\Rightarrow m = 358.75\n",
    "\\end{array}$ <br>\n",
    "So 95% of the shoes weight more than 358.75 gram."
   ]
  },
  {
   "cell_type": "markdown",
   "metadata": {
    "tags": []
   },
   "source": [
    "## d) Randomly choosing 5 shoes, What is the probability of getting exactly three of them weight more than 430 gram.\n",
    "Let p The probability of a chosen shoe that weights more than 430 gram. Thus p = 0.11561 (question a). <br>\n",
    "Let Y the numver of shoes that weight more than 430 gram in 5 chosen shoes. We have: <br>\n",
    "$Y \\sim B\\left( {5,p} \\right)$ <br>\n",
    "The probability of getting exactly three of them weight more than 430 gram: <br>\n",
    "$P\\left( {Y = 3} \\right) = C_5^3{p^3}{\\left( {1 - p} \\right)^2} = 0.0121$"
   ]
  },
  {
   "cell_type": "markdown",
   "metadata": {},
   "source": [
    "# Modeling Solving The Problem"
   ]
  },
  {
   "cell_type": "code",
   "execution_count": 34,
   "metadata": {
    "tags": []
   },
   "outputs": [],
   "source": [
    "import random\n",
    "import numpy as np\n",
    "import math"
   ]
  },
  {
   "cell_type": "code",
   "execution_count": 35,
   "metadata": {},
   "outputs": [],
   "source": [
    "# Create sample \n",
    "sample = np.random.normal(400, 25, 100000)"
   ]
  },
  {
   "cell_type": "code",
   "execution_count": 36,
   "metadata": {},
   "outputs": [
    {
     "data": {
      "text/plain": [
       "0.11577"
      ]
     },
     "execution_count": 36,
     "metadata": {},
     "output_type": "execute_result"
    }
   ],
   "source": [
    "# Probability of a chosen shoe that weights more than 430 gram.\n",
    "n = 0 # Count number of shoes weight more than 430 gram\n",
    "for i in sample:\n",
    "    if i > 430:\n",
    "        n += 1\n",
    "n/100000"
   ]
  },
  {
   "cell_type": "code",
   "execution_count": 37,
   "metadata": {},
   "outputs": [
    {
     "data": {
      "text/plain": [
       "0.67164"
      ]
     },
     "execution_count": 37,
     "metadata": {},
     "output_type": "execute_result"
    }
   ],
   "source": [
    "# Probability of a chosen shoe that weights 380 gram to 430 gram.\n",
    "n = 0 # Count number of shoes that weights 380 gram to 430 gram.\n",
    "for i in sample:\n",
    "    if i <= 430 and i >= 380:\n",
    "        n += 1\n",
    "n/100000"
   ]
  },
  {
   "cell_type": "code",
   "execution_count": 38,
   "metadata": {},
   "outputs": [
    {
     "data": {
      "text/plain": [
       "358.7427671866555"
      ]
     },
     "execution_count": 38,
     "metadata": {},
     "output_type": "execute_result"
    }
   ],
   "source": [
    "# 95% of the shoes weight more than how many gram?\n",
    "# 5 percentile of the sample\n",
    "np.percentile(sample, 5)"
   ]
  },
  {
   "cell_type": "code",
   "execution_count": 39,
   "metadata": {},
   "outputs": [
    {
     "data": {
      "text/plain": [
       "0.012"
      ]
     },
     "execution_count": 39,
     "metadata": {},
     "output_type": "execute_result"
    }
   ],
   "source": [
    "# Randomly choosing 5 shoes, What is the probability of getting exactly three of them weight more than 430 gram.\n",
    "n = 0 # Count number of times that getting exactly three of them weight more than 430 gram.\n",
    "# 1000 trials, choose 5 shoes each trials\n",
    "for i in range(1000):\n",
    "    sample_of_5_shoes = random.sample(list(sample), k=5)\n",
    "    k = 0 # Count the number of shoes that weight more than 430 gram\n",
    "    for j in sample_of_5_shoes:\n",
    "        if j > 430:\n",
    "            k += 1\n",
    "    if k == 3: #Có đúng 3 chiếc nặng hơn 430 gram\n",
    "        n += 1\n",
    "n/1000"
   ]
  }
 ],
 "metadata": {
  "hide_input": false,
  "kernelspec": {
   "display_name": "Python 3 (ipykernel)",
   "language": "python",
   "name": "python3"
  },
  "language_info": {
   "codemirror_mode": {
    "name": "ipython",
    "version": 3
   },
   "file_extension": ".py",
   "mimetype": "text/x-python",
   "name": "python",
   "nbconvert_exporter": "python",
   "pygments_lexer": "ipython3",
   "version": "3.9.12"
  }
 },
 "nbformat": 4,
 "nbformat_minor": 4
}
