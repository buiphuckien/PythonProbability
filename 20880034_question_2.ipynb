{
 "cells": [
  {
   "cell_type": "code",
   "execution_count": 11,
   "metadata": {
    "tags": []
   },
   "outputs": [],
   "source": [
    "from IPython.display import SVG, Math\n",
    "from fractions import Fraction as F\n",
    "import matplotlib.pyplot as plt\n",
    "import random"
   ]
  },
  {
   "cell_type": "markdown",
   "metadata": {},
   "source": [
    "# Bài tập 2\n",
    "\n",
    "**THỐNG KÊ MÁY TÍNH VÀ ỨNG DỤNG (ĐTTX)**\n",
    "\n",
    "*Họ tên sinh viên: Bùi Phúc Kiển* <br>\n",
    "*MSSV: 20880034*"
   ]
  },
  {
   "cell_type": "markdown",
   "metadata": {},
   "source": [
    "## Câu 2.\n",
    "Một khu phố có 10000 người. Trong số này có:\n",
    "    <ul >\n",
    "        <li>3000 người trẻ,</li>\n",
    "        <li>4600 người nam,</li>\n",
    "        <li>7000 người đã kết hôn,</li>\n",
    "        <li>1320 người nam trẻ,</li>\n",
    "        <li>3010 người nam đã kết hôn,</li>\n",
    "        <li>1400 người trẻ đã kết hôn,</li>\n",
    "        <li>600 người nam trẻ đã kết hôn,</li>\n",
    "    </ul>\n",
    "Chọn ngẫu nhiên một người trong khu phố, tính xác suất người đó là nữ trẻ độc thân."
   ]
  },
  {
   "cell_type": "markdown",
   "metadata": {},
   "source": [
    "### Bài làm"
   ]
  },
  {
   "cell_type": "markdown",
   "metadata": {
    "tags": []
   },
   "source": [
    "Gọi <br>\n",
    "A: \"Chọn được người trẻ\" <br>\n",
    "B: \"Chọn được người đã kết hôn\" <br>\n",
    "C: \"Chọn được người nam\" <br>\n",
    "Số người nam trẻ độc thân là $n\\left( {CA{B^C}} \\right) = 1320 - 600 = 720$ <br>\n",
    "Số người nữ trẻ độc thân là $n\\left( {{C^C}A{B^C}} \\right) = 3000 - 1400 - 720 = 880$ <br>\n",
    "Xác suất chọn được người nữ trẻ độc thân là: $P\\left( {{C^C}A{B^C}} \\right) = \\frac{{880}}{{10000}} = 0.088$"
   ]
  },
  {
   "cell_type": "code",
   "execution_count": 12,
   "metadata": {},
   "outputs": [
    {
     "data": {
      "image/png": "[encoded data removed]",
      "text/plain": [
       "<Figure size 432x288 with 1 Axes>"
      ]
     },
     "metadata": {},
     "output_type": "display_data"
    }
   ],
   "source": [
    "from matplotlib_venn import venn3\n",
    "venn3(subsets = (880, 3190, 800, 870, 720, 2410, 600), set_labels = ('Young', 'Married', 'Male'))\n",
    "plt.show()"
   ]
  },
  {
   "cell_type": "markdown",
   "metadata": {},
   "source": [
    "### Kiểm tra kết quả bằng phương pháp mô phỏng"
   ]
  },
  {
   "cell_type": "code",
   "execution_count": 13,
   "metadata": {},
   "outputs": [
    {
     "name": "stdout",
     "output_type": "stream",
     "text": [
      "0.0877\n",
      "0.088665\n",
      "0.08747\n",
      "0.0878075\n",
      "0.08809\n",
      "0.08818666666666666\n",
      "0.08832714285714285\n",
      "0.088515\n",
      "0.08852666666666667\n"
     ]
    }
   ],
   "source": [
    "#Lớp đối tượng để tạo người trong khu phố\n",
    "class Individual:\n",
    "    #instances danh sách lưu tất cả các instance (người) được tạo ra\n",
    "    instances = []\n",
    "    \n",
    "    \"\"\"\n",
    "    Mỗi cá nhân sẽ có các thuộc tính:\n",
    "        - stage: 1 - trẻ, 0 - già (không trẻ)\n",
    "        - gender: 1 - nam, 0 - nữ\n",
    "        - martial_status: 1 - đã kết hôn, 0 - độc thân\n",
    "    \"\"\"\n",
    "    def __init__(self, stage = 0, gender = 0, martial_status = 0):\n",
    "        self.stage = stage\n",
    "        self.gender = gender\n",
    "        self.martial_status = martial_status\n",
    "        #Lưu vào instances mỗi cá nhân được tạo ra\n",
    "        Individual.instances.append(self)\n",
    "        \n",
    "#Tạo 10_000 người\n",
    "for i in range(10_000):\n",
    "    Individual()\n",
    "\n",
    "#Tạo 3_000 người trẻ từ 1000 người => Chọn 3_000 người từ 10_000 và gán thuộc tính stage = 1\n",
    "youngs = random.sample(Individual.instances, k=3000)\n",
    "for young in youngs:\n",
    "    young.stage = 1\n",
    "    \n",
    "#Tạo 1_400 người trẻ đã kết hôn => Chọn 1_400 người từ 3_000 người trẻ và gán thuộc tính martial_status = 1\n",
    "young_marrieds = random.sample(youngs, 1_400)\n",
    "for young_married in young_marrieds:\n",
    "    young_married.martial_status = 1\n",
    "    \n",
    "#Tạo 600 người nam trẻ đã kết hôn => Chọn 600 người từ 1_400 người trẻ đã kết hôn và gán thuộc tính gender = 1\n",
    "male_young_marrieds = random.sample(young_marrieds, 600)\n",
    "for male_young_married in male_young_marrieds:\n",
    "    male_young_married.gender = 1\n",
    "    \n",
    "\"\"\"\n",
    "Có 1320 người nam trẻ. 600 người nam trẻ đã kết hôn.\n",
    "==> Số người nam trẻ độc thân là 1320 - 600 = 720\n",
    "\"\"\"\n",
    "#Trẻ độc thân = Trẻ - Trẻ đã kết hôn\n",
    "young_singles = [person for person in youngs if (person not in young_marrieds)]\n",
    "#Tạo 720 người nam trẻ độc thân => Chọn 720 người từ young_singles và gán thuộc tính gender=0\n",
    "male_young_singles = random.sample(young_singles, 720)\n",
    "for male_young_single in male_young_singles:\n",
    "    male_young_single.gender = 1\n",
    "    \n",
    "\"\"\"\n",
    "Thực hiện phép thử n lần.\n",
    "Mỗi lần chọn 1 người.\n",
    "Đếm số lần chọn được người là nử trẻ độc thân (gender == 0 && stage == 1 && martial_status == 0), chia cho n\n",
    "\"\"\"\n",
    "def prob(n):\n",
    "    count = 0\n",
    "    for i in range(n):\n",
    "        #Chọn một người của khu phố\n",
    "        choosed_person = random.choice(Individual.instances) \n",
    "        #Kiểm tra xem người đó có phải là nử trẻ độc thân không\n",
    "        if(choosed_person.gender == 0 and choosed_person.stage == 1 and choosed_person.martial_status == 0):\n",
    "            count += 1\n",
    "    return count/n\n",
    "\n",
    "for i in range(100_000, 1_000_000, 100_000):\n",
    "    print(prob(i), sep = \"  \")"
   ]
  }
 ],
 "metadata": {
  "hide_input": false,
  "kernelspec": {
   "display_name": "Python 3",
   "language": "python",
   "name": "python3"
  },
  "language_info": {
   "codemirror_mode": {
    "name": "ipython",
    "version": 3
   },
   "file_extension": ".py",
   "mimetype": "text/x-python",
   "name": "python",
   "nbconvert_exporter": "python",
   "pygments_lexer": "ipython3",
   "version": "3.8.8"
  }
 },
 "nbformat": 4,
 "nbformat_minor": 4
}
