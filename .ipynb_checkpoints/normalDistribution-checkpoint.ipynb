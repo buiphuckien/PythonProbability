{
 "cells": [
  {
   "cell_type": "markdown",
   "metadata": {},
   "source": [
    "# Bài tập 4\n",
    "\n",
    "**THỐNG KÊ MÁY TÍNH VÀ ỨNG DỤNG (ĐTTX)**\n",
    "\n",
    "*Họ tên sinh viên: Bùi Phúc Kiển* <br>\n",
    "*MSSV: 20880034*"
   ]
  },
  {
   "cell_type": "markdown",
   "metadata": {},
   "source": [
    "## Câu 3.\n",
    " Khối lượng của một chiếc giày có phân phối chuẩn với kỳ vọng là 400 gram và độ lệch\n",
    "chuẩn là 25 gram. Tính: <br>\n",
    "(a) Xác suất 1 chiếc giày nặng hơn 430 gram. <br>\n",
    "(b) Xác suất 1 chiếc giày nặng từ 380 đến 430 gram. <br>\n",
    "(c) 95% chiếc giày nặng hơn bao nhiêu gram? <br>\n",
    "(d) Chọn ngẫu nhiên 5 chiếc giày, tính xác suất có đúng 3 chiếc nặng hơn 430 gram."
   ]
  },
  {
   "cell_type": "markdown",
   "metadata": {},
   "source": [
    "### Bài làm"
   ]
  },
  {
   "cell_type": "markdown",
   "metadata": {},
   "source": [
    "Gọi X(gram) là khối lượng của một chiếc giày. Ta có: <br>\n",
    "$X \\sim N\\left( {400,{{25}^2}} \\right)$"
   ]
  },
  {
   "cell_type": "markdown",
   "metadata": {},
   "source": [
    "### Câu a) Xác suất 1 chiếc giày nặng hơn 430 gram. <br>\n",
    "$P\\left( {X \\ge 430} \\right) = P\\left( {\\frac{{X - 400}}{{25}} \\ge 1.2} \\right) = 1 - \\Phi \\left( {1.2} \\right) = 1 - 0.88439 = 0.11561$"
   ]
  },
  {
   "cell_type": "markdown",
   "metadata": {
    "tags": []
   },
   "source": [
    "### Câu b) Xác suất 1 chiếc giày nặng từ 380 đến 430 gram.\n",
    "$P\\left( {380 \\le X \\le 430} \\right) = \\Phi \\left( {1.2} \\right) - \\Phi \\left( { - 0.8} \\right) = 0.88439 - 0.21186 = 0.67253$"
   ]
  },
  {
   "cell_type": "markdown",
   "metadata": {
    "tags": []
   },
   "source": [
    "### Câu c) 95% chiếc giày nặng hơn bao nhiêu gram?\n",
    "Giả sử 95% chiếc giày nặng hơn m gram. Khi đó: <br>\n",
    "$\\begin{array}{l}\n",
    "P\\left( {X \\ge m} \\right) = 0.95\\\\\n",
    " \\Rightarrow P\\left( {X \\le m} \\right) = 0.05\\\\\n",
    " \\Rightarrow \\Phi \\left( {\\frac{{m - 400}}{{25}}} \\right) = 0.05 = \\Phi \\left( { - 1.65} \\right)\\\\\n",
    " \\Rightarrow \\frac{{m - 400}}{{25}} =  - 1.65\\\\\n",
    " \\Rightarrow m = 358.75\n",
    "\\end{array}$ <br>\n",
    "Vậy 95% chiếc giày nặng hơn 358.75 gram."
   ]
  },
  {
   "cell_type": "markdown",
   "metadata": {
    "tags": []
   },
   "source": [
    "### Câu d) Chọn ngẫu nhiên 5 chiếc giày, tính xác suất có đúng 3 chiếc nặng hơn 430 gram.\n",
    "Gọi p là xác suất một chiếc giày nặng hơn 430 gram. Ta có p = 0.11561 (câu a). <br>\n",
    "Gọi Y là số chiếc giày nặng hơn 430 gram trong 5 chiếc lấy ra. Ta có: <br>\n",
    "$Y \\sim B\\left( {5,p} \\right)$ <br>\n",
    "xác suất có đúng 3 chiếc nặng hơn 430 gram là: <br>\n",
    "$P\\left( {Y = 3} \\right) = C_5^3{p^3}{\\left( {1 - p} \\right)^2} = 0.0121$"
   ]
  },
  {
   "cell_type": "markdown",
   "metadata": {},
   "source": [
    "### Kiểm tra kết quả bằng phương pháp mô phỏng"
   ]
  },
  {
   "cell_type": "code",
   "execution_count": 34,
   "metadata": {
    "tags": []
   },
   "outputs": [],
   "source": [
    "import random\n",
    "import numpy as np\n",
    "import math"
   ]
  },
  {
   "cell_type": "code",
   "execution_count": 35,
   "metadata": {},
   "outputs": [],
   "source": [
    "#Tạo dữ liệu mẫu\n",
    "sample = np.random.normal(400, 25, 100000)"
   ]
  },
  {
   "cell_type": "code",
   "execution_count": 36,
   "metadata": {},
   "outputs": [
    {
     "data": {
      "text/plain": [
       "0.11577"
      ]
     },
     "execution_count": 36,
     "metadata": {},
     "output_type": "execute_result"
    }
   ],
   "source": [
    "#Xác suất 1 chiếc giày nặng hơn 430 gram.\n",
    "n = 0 #Đếm các chiếc giầy nặng hơn 430 gram\n",
    "for i in sample:\n",
    "    if i > 430:\n",
    "        n += 1\n",
    "n/100000"
   ]
  },
  {
   "cell_type": "code",
   "execution_count": 37,
   "metadata": {},
   "outputs": [
    {
     "data": {
      "text/plain": [
       "0.67164"
      ]
     },
     "execution_count": 37,
     "metadata": {},
     "output_type": "execute_result"
    }
   ],
   "source": [
    "#Xác suất 1 chiếc giày nặng từ 380 đến 430 gram.\n",
    "n = 0 #đếm các chiếc giày nặng từ 380 đến 430 gram.\n",
    "for i in sample:\n",
    "    if i <= 430 and i >= 380:\n",
    "        n += 1\n",
    "n/100000"
   ]
  },
  {
   "cell_type": "code",
   "execution_count": 38,
   "metadata": {},
   "outputs": [
    {
     "data": {
      "text/plain": [
       "358.7427671866555"
      ]
     },
     "execution_count": 38,
     "metadata": {},
     "output_type": "execute_result"
    }
   ],
   "source": [
    "#95% chiếc giày nặng hơn bao nhiêu gram?\n",
    "#5 percentile của mẫu\n",
    "np.percentile(sample, 5)"
   ]
  },
  {
   "cell_type": "code",
   "execution_count": 39,
   "metadata": {},
   "outputs": [
    {
     "data": {
      "text/plain": [
       "0.012"
      ]
     },
     "execution_count": 39,
     "metadata": {},
     "output_type": "execute_result"
    }
   ],
   "source": [
    "#Chọn ngẫu nhiên 5 chiếc giày, tính xác suất có đúng 3 chiếc nặng hơn 430 gram.\n",
    "n = 0 #Đếm số lần có đúng 3 chiếc nặng hơn 430 gram\n",
    "#Thực hiện 1000 phép thử, mỗi phép thử chọn 5 chiếc giày\n",
    "for i in range(1000):\n",
    "    sample_of_5_shoes = random.sample(list(sample), k=5)\n",
    "    k = 0 #đếm số chiếc nặng hơn 430 gram\n",
    "    for j in sample_of_5_shoes:\n",
    "        if j > 430:\n",
    "            k += 1\n",
    "    if k == 3: #Có đúng 3 chiếc nặng hơn 430 gram\n",
    "        n += 1\n",
    "n/1000"
   ]
  }
 ],
 "metadata": {
  "hide_input": false,
  "kernelspec": {
   "display_name": "Python 3",
   "language": "python",
   "name": "python3"
  },
  "language_info": {
   "codemirror_mode": {
    "name": "ipython",
    "version": 3
   },
   "file_extension": ".py",
   "mimetype": "text/x-python",
   "name": "python",
   "nbconvert_exporter": "python",
   "pygments_lexer": "ipython3",
   "version": "3.8.8"
  }
 },
 "nbformat": 4,
 "nbformat_minor": 4
}
