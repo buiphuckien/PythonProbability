{
 "cells": [
  {
   "cell_type": "code",
   "execution_count": 2,
   "metadata": {
    "tags": []
   },
   "outputs": [],
   "source": [
    "from IPython.display import SVG, Math\n",
    "from fractions import Fraction as F\n",
    "import matplotlib.pyplot as plt\n",
    "import random"
   ]
  },
  {
   "cell_type": "markdown",
   "metadata": {},
   "source": [
    "# Bài tập 2\n",
    "\n",
    "**THỐNG KÊ MÁY TÍNH VÀ ỨNG DỤNG (ĐTTX)**\n",
    "\n",
    "*Họ tên sinh viên: Bùi Phúc Kiển* <br>\n",
    "*MSSV: 20880034*"
   ]
  },
  {
   "cell_type": "markdown",
   "metadata": {},
   "source": [
    "## Câu 4.\n",
    "Một nghiên cứu sức khỏe đã theo dõi một nhóm người trong 5 năm. Khi bắt đầu nghiên\n",
    "cứu, 20% được phân loại là người nghiện thuốc nặng, 30% là người hút thuốc nhẹ và\n",
    "50% là người không hút thuốc. Kết quả của nghiên cứu cho thấy rằng những người hút\n",
    "thuốc nhẹ có nguy cơ tử vong cao gấp đôi so với những người không hút thuốc nhưng\n",
    "chỉ bằng một nửa so với những người nghiện thuốc nặng. Một người tham gia được\n",
    "chọn ngẫu nhiên từ nghiên cứu đã chết trong vòng 5 năm nghiên cứu. Tính xác suất\n",
    "người đó nghiện thuốc nặng."
   ]
  },
  {
   "cell_type": "markdown",
   "metadata": {
    "tags": []
   },
   "source": [
    "### Bài làm"
   ]
  },
  {
   "cell_type": "markdown",
   "metadata": {
    "tags": []
   },
   "source": [
    "Gọi H (heavy), L (light), N (non) lần lượt là các biến cố người được chọn hút thuốc nặng, nhẹ, và không hút thuốc. <br>\n",
    "Ta có:\n",
    "$$P\\left( H \\right) = 0.2,{\\rm{ }}P\\left( L \\right) = 0.3,{\\rm{ }}P\\left( N \\right) = 0.5$$\n",
    "Gọi D: \"Người được chọn chết trong 5 năm.\" <br>\n",
    "Gọi x là tỉ lệ tử vong với người hút thuốc nặng. <br>\n",
    "Suy ra tỉ lệ tử vong với người hút thuốc nhẹ và không hút thuốc lần lượt là $(1/2)x$ và $(1/4)x$. <br>\n",
    "Suy ra:\n",
    "$$P\\left( {D/H} \\right) = x,{\\rm{ }}P\\left( {D/L} \\right) = \\frac{1}{2}x,{\\rm{ }}P\\left( {D/N} \\right) = \\frac{1}{4}x$$\n",
    "Ta có $\\left\\{ {H,L,N} \\right\\}$ là một hệ đầy đủ. Áp dụng công thức xác suất toàn phần ta được:\n",
    "$$P\\left( D \\right) = P\\left( H \\right)P\\left( {D/H} \\right) + P\\left( L \\right)P\\left( {D/L} \\right) + P\\left( N \\right)P\\left( {D/N} \\right) = \\frac{{19}}{{40}}x$$\n",
    "**Xác suất cần tìm:**\n",
    "$$P\\left( {H/D} \\right) = \\frac{{P\\left( H \\right)P\\left( {D/H} \\right)}}{{P\\left( D \\right)}} = \\frac{{\\left( {0.2} \\right)\\left( x \\right)}}{{\\left( {19/40} \\right)x}} = \\frac{8}{{19}}$$"
   ]
  },
  {
   "cell_type": "markdown",
   "metadata": {},
   "source": [
    "### Kiểm tra kết quả bằng phương pháp mô phỏng"
   ]
  },
  {
   "cell_type": "code",
   "execution_count": 3,
   "metadata": {},
   "outputs": [
    {
     "name": "stdout",
     "output_type": "stream",
     "text": [
      "0.42035395011529203\n"
     ]
    }
   ],
   "source": [
    "#Lớp đối tượng để mô phỏng người trong nghiên cứu\n",
    "class Person:\n",
    "    #instances danh sách lưu tất cả các instance (người) được tạo ra\n",
    "    instances = []\n",
    "    heavy_smokers = []\n",
    "    light_smokers = []\n",
    "    non_smokers = []\n",
    "    \n",
    "    \"\"\"\n",
    "    Mỗi người sẽ có các thuộc tính:\n",
    "        - smoking_status: 0 - không hút thuốc, 1 - nghiện nhẹ,2 - nghiện nặng\n",
    "    \"\"\"\n",
    "    def __init__(self, smoking_status = 0, dead = 0):\n",
    "        \n",
    "        self.smoking_status = smoking_status\n",
    "        self.dead = dead\n",
    "        \n",
    "        #Những người nghiện thuốc nặng lưu vào heavy_smokers\n",
    "        if(self.smoking_status == 2):\n",
    "            Person.heavy_smokers.append(self)\n",
    "            \n",
    "        #Những người nghiện thuốc nhẹ lưu vào light_smokers\n",
    "        if(self.smoking_status == 1):\n",
    "            Person.light_smokers.append(self)\n",
    "            \n",
    "        #Những người không hút thuốc lưu vào non_smokers\n",
    "        if(self.smoking_status == 0):\n",
    "            Person.non_smokers.append(self)\n",
    "            \n",
    "        #Lưu vào instances mỗi cá nhân được tạo ra\n",
    "        Person.instances.append(self)\n",
    "        \n",
    "\"\"\"\n",
    "Hàm tạo kích thước mẫu n người. Với n là bội của 1_000 tạo thuận lợi cho việc tính toán.\n",
    "Phân mẫu ra thành:\n",
    "    - 20% người nghiện thuốc nặng (smoking_status = 2)\n",
    "    - 30% người nghiện thuốc nhẹ (smoking_status = 1)\n",
    "    - 50% người không hút thuốc (smoking_status = 0)\n",
    "\"\"\"\n",
    "def sample_size(n):\n",
    "    assert (n!=0 and n%1_000 == 0), 'Kích thước mẫu không hợp lệ'\n",
    "    \n",
    "    #Tạo ra 20% người nghiện thuốc nặng\n",
    "    for _ in range(int(0.2*n)):\n",
    "        Person(smoking_status = 2, dead = 0)\n",
    "        \n",
    "    #Tạo ra 30% người nghiện thuốc nhẹ\n",
    "    for _ in range(int(0.3*n)):\n",
    "        Person(smoking_status = 1, dead = 0)\n",
    "        \n",
    "    #Tạo ra 50% người không hút thuốc\n",
    "    for _ in range(int(0.5*n)):\n",
    "        Person(smoking_status = 0, dead = 0)\n",
    "\n",
    "\"\"\"\n",
    "Hàm gán thuộc tính chết cho mỗi người.\n",
    " - Nguy cơ tử vong đối với người nghiện thuốc nặng là x - được phảt sinh ngẫu nhiên từ 0 đến 1.\n",
    " - Nguy cơ tử vong đối với người nghiện thuốc nhẹ là (1/2)x.\n",
    " - Nguy cơ tử vong đối với người không hút thuốc là (1/4)x.\n",
    " - Tính số lượng người chết tương ứng với tỉ lệ ở mỗi nhóm.\n",
    " - Gán thuộc tính chết (randomly) vào từng nhóm người tương ứng.\n",
    "\"\"\"\n",
    "def set_died(n):\n",
    "    sample_size(n)\n",
    "    #Random một số thuộc khoảng (0,1), làm tròn hai chữ số thập phân\n",
    "    x = round(random.random(), 2)\n",
    "    \n",
    "    #Số người nghiện thuốc nặng chết\n",
    "    num_of_dead_heavy_smokers = int(x*0.2*n)\n",
    "    #Gán thuộc tính chết cho nhóm người nghiện nặng\n",
    "    dead_heavy_smokers = random.sample(Person.heavy_smokers, num_of_dead_heavy_smokers)\n",
    "    for person in dead_heavy_smokers:\n",
    "        person.dead = 1\n",
    "        \n",
    "    #Số người nghiện thuốc nhẹ chết\n",
    "    num_of_dead_light_smokers = int((1/2)*x*0.3*n)\n",
    "    #Gán thuộc tính chết cho nhóm người nghiện nhẹ\n",
    "    dead_light_smokers = random.sample(Person.light_smokers, num_of_dead_light_smokers)\n",
    "    for person in dead_light_smokers:\n",
    "        person.dead = 1\n",
    "        \n",
    "    #Số người không hút thuốc chết\n",
    "    num_of_dead_non_smokers = int((1/4)*x*0.5*n)\n",
    "    #Gán thuộc tính chết cho nhóm người không hút thuốc chết\n",
    "    dead_non_smokers = random.sample(Person.non_smokers, num_of_dead_non_smokers)\n",
    "    for person in dead_non_smokers:\n",
    "        person.dead = 1\n",
    "        \n",
    "\n",
    "\"\"\"\n",
    "Hàm tính xác suất có điều kiện: Một người tham gia được chọn ngẫu nhiên đã chết, xác suất để người đó nghiện thuốc nặng.\n",
    "n là số người tham gia.\n",
    "Thực hiện phép thử (chọn) m lần. Mỗi lần 1 người.\n",
    "Ghi nhận lại số lần chọn được người chết.\n",
    "Nếu chọn được người chết, kiểm tra đó có phải là người nghiện thuốc nặng không.\n",
    "\"\"\"\n",
    "def prob(n, m):\n",
    "    countDead = 0\n",
    "    countHeavy = 0\n",
    "    set_died(n)\n",
    "    for i in range(m):\n",
    "        choosed_person = random.choice(Person.instances)\n",
    "        if choosed_person.dead == 1:\n",
    "            countDead += 1\n",
    "            if choosed_person.smoking_status == 2:\n",
    "                countHeavy += 1\n",
    "    return countHeavy/countDead\n",
    "    \n",
    "try:\n",
    "    print(prob(10_000, 1_000_000))\n",
    "except AssertionError as msg:\n",
    "    print(msg)"
   ]
  }
 ],
 "metadata": {
  "hide_input": false,
  "kernelspec": {
   "display_name": "Python 3",
   "language": "python",
   "name": "python3"
  },
  "language_info": {
   "codemirror_mode": {
    "name": "ipython",
    "version": 3
   },
   "file_extension": ".py",
   "mimetype": "text/x-python",
   "name": "python",
   "nbconvert_exporter": "python",
   "pygments_lexer": "ipython3",
   "version": "3.8.8"
  }
 },
 "nbformat": 4,
 "nbformat_minor": 4
}
