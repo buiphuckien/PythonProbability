{
 "cells": [
  {
   "cell_type": "code",
   "execution_count": 5,
   "metadata": {
    "tags": []
   },
   "outputs": [],
   "source": [
    "from IPython.display import SVG, Math\n",
    "from fractions import Fraction as F\n",
    "import matplotlib.pyplot as plt\n",
    "import random"
   ]
  },
  {
   "cell_type": "markdown",
   "metadata": {},
   "source": [
    "# Bài tập 2\n",
    "\n",
    "**THỐNG KÊ MÁY TÍNH VÀ ỨNG DỤNG (ĐTTX)**\n",
    "\n",
    "*Họ tên sinh viên: Bùi Phúc Kiển* <br>\n",
    "*MSSV: 20880034*"
   ]
  },
  {
   "cell_type": "markdown",
   "metadata": {},
   "source": [
    "## Câu 3.\n",
    "Bốc ngẫu nhiên 8 viên bi trong hộp gồm 7 bi Đỏ và 8 bi Đen. Tính xác suất bốc được\n",
    "3 bi Đỏ trong các trường hợp\n",
    "    <ul >\n",
    "        <li>Bốc có hoàn lại.</li>\n",
    "        <li>Bốc không hoàn lại.</li>\n",
    "    </ul>"
   ]
  },
  {
   "cell_type": "markdown",
   "metadata": {
    "tags": []
   },
   "source": [
    "### Bài làm"
   ]
  },
  {
   "cell_type": "markdown",
   "metadata": {
    "tags": []
   },
   "source": [
    "Gọi <br>\n",
    "${A_i}$: \"Lần thứ $i$ bốc được bi đỏ\" , $i = 1, 2, 3$<br>\n",
    "B: \"Bốc được 3 bi đỏ\" <br>\n",
    "Suy ra $B = {A_1}{A_2}{A_3}$ <br>\n",
    "**1. Bốc có hoàn lại** <br>\n",
    "Ta có các biến cố ${A_i}, {i = 1, 2, 3}$ độc lập nhau nên:\n",
    "$$\\left( B \\right) = P\\left( {{A_1}{A_2}{A_3}} \\right) = P\\left( {{A_1}} \\right)P\\left( {{A_2}} \\right)P\\left( {{A_3}} \\right) = {\\left( {\\frac{7}{{15}}} \\right)^3}$$\n",
    "**2. Bốc không hoàn lại** <br>\n",
    "Ta có:<br>\n",
    "$$P\\left( B \\right) = P\\left( {{A_1}{A_2}{A_3}} \\right) = P\\left( {{A_1}} \\right)P\\left( {{A_2}/{A_1}} \\right)P\\left( {{A_3}/{A_1}{A_2}} \\right) = \\frac{7}{{15}}.\\frac{6}{{14}}.\\frac{5}{{13}} = \\frac{1}{{13}}$$"
   ]
  },
  {
   "cell_type": "markdown",
   "metadata": {},
   "source": [
    "### Kiểm tra kết quả bằng phương pháp mô phỏng"
   ]
  },
  {
   "cell_type": "code",
   "execution_count": 6,
   "metadata": {},
   "outputs": [
    {
     "name": "stdout",
     "output_type": "stream",
     "text": [
      "Xác suất được 3 bi đỏ khi bốc có hoàn lại là:  0.101282\n",
      "Xác suất được 3 bi đỏ khi bốc không hoàn lại là:  0.077239\n"
     ]
    }
   ],
   "source": [
    "omega = [('R', i) for i in range(1, 8)] + [('B', i) for i in range(1, 9)]\n",
    "\n",
    "#Bốc có hoàn lại k lần\n",
    "def replacement(sample_space, k):\n",
    "    return random.choices(sample_space, k=k)\n",
    "\n",
    "#Bốc không hoàn lại k lần\n",
    "def without_replacement(sample_space, k):\n",
    "    return random.sample(sample_space, k=k)\n",
    "\n",
    "\n",
    "#Xac suat boc duoc k bi có màu C(color)\n",
    "def prob(n, C, k, f):\n",
    "    \"\"\"\n",
    "    Thực hiện phép thử n lần, đếm số lần thành công (có k bi có màu C) và chia cho n\n",
    "    C: màu bi R-red, B-black\n",
    "    k: Số lần bốc bi trong một phép thử\n",
    "    f: Hàm boc_co_hoan_lai hoặc boc_khong_hoan_lai\n",
    "    \"\"\"\n",
    "    num_success = 0                             #Đếm số lần thành công (Cả k lần bốc đều được C)\n",
    "    for i in range(n): \n",
    "        sample_space = omega.copy()\n",
    "        nC = 0                                 #Dùng để đếm số lần bốc được C\n",
    "        choices = f(sample_space, k)\n",
    "        for marble in choices:\n",
    "            if(marble[0] == C):\n",
    "                nC += 1                        #Nếu chọn được C thì ghi nhận lại\n",
    "        if(nC == k):\n",
    "            num_success += 1                   #Nếu ở mỗi phép thử số lần bốc được C bằng k thì ghi nhận một lần thành công\n",
    "    return num_success/n\n",
    "\n",
    "\n",
    "print(\"Xác suất được 3 bi đỏ khi bốc có hoàn lại là: \", prob(1_000_000, 'R', 3, replacement))\n",
    "\n",
    "print(\"Xác suất được 3 bi đỏ khi bốc không hoàn lại là: \", prob(1_000_000, 'R', 3, without_replacement))"
   ]
  }
 ],
 "metadata": {
  "hide_input": false,
  "kernelspec": {
   "display_name": "Python 3",
   "language": "python",
   "name": "python3"
  },
  "language_info": {
   "codemirror_mode": {
    "name": "ipython",
    "version": 3
   },
   "file_extension": ".py",
   "mimetype": "text/x-python",
   "name": "python",
   "nbconvert_exporter": "python",
   "pygments_lexer": "ipython3",
   "version": "3.8.8"
  }
 },
 "nbformat": 4,
 "nbformat_minor": 4
}
